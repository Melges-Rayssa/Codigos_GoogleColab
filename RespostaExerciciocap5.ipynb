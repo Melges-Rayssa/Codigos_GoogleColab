{
  "nbformat": 4,
  "nbformat_minor": 0,
  "metadata": {
    "kernelspec": {
      "display_name": "Python 3",
      "language": "python",
      "name": "python3"
    },
    "language_info": {
      "codemirror_mode": {
        "name": "ipython",
        "version": 3
      },
      "file_extension": ".py",
      "mimetype": "text/x-python",
      "name": "python",
      "nbconvert_exporter": "python",
      "pygments_lexer": "ipython3",
      "version": "3.7.6"
    },
    "colab": {
      "name": "RespostaExerciciocap5.ipynb",
      "provenance": [],
      "include_colab_link": true
    }
  },
  "cells": [
    {
      "cell_type": "markdown",
      "metadata": {
        "id": "view-in-github",
        "colab_type": "text"
      },
      "source": [
        "<a href=\"https://colab.research.google.com/github/Melges-Rayssa/Codigos_GoogleColab/blob/master/RespostaExerciciocap5.ipynb\" target=\"_parent\"><img src=\"https://colab.research.google.com/assets/colab-badge.svg\" alt=\"Open In Colab\"/></a>"
      ]
    },
    {
      "cell_type": "markdown",
      "metadata": {
        "id": "5GiUjpCsAA-b",
        "colab_type": "text"
      },
      "source": [
        "# <font color='blue'>Data Science Academy - Python Fundamentos - Capítulo 5</font>\n",
        "\n",
        "## Download: http://github.com/dsacademybr"
      ]
    },
    {
      "cell_type": "code",
      "metadata": {
        "id": "YpNuGifZAA-f",
        "colab_type": "code",
        "colab": {}
      },
      "source": [
        "# Versão da Linguagem Python\n",
        "from platform import python_version\n",
        "print('Versão da Linguagem Python Usada Neste Jupyter Notebook:', python_version())"
      ],
      "execution_count": null,
      "outputs": []
    },
    {
      "cell_type": "markdown",
      "metadata": {
        "id": "NLQhqpvHAA-p",
        "colab_type": "text"
      },
      "source": [
        "## Exercícios"
      ]
    },
    {
      "cell_type": "code",
      "metadata": {
        "id": "j-kOiofEAA-r",
        "colab_type": "code",
        "colab": {
          "base_uri": "https://localhost:8080/",
          "height": 51
        },
        "outputId": "6156c8cb-fc85-4194-b5c2-78db9c07d711"
      },
      "source": [
        "# Exercício 1 - Crie um objeto a partir da classe abaixo, chamado roc1, passando 2 parâmetros e depois faça uma chamada\n",
        "# aos atributos e métodos\n",
        "from math import sqrt\n",
        "\n",
        "class Rocket():\n",
        "     \n",
        "    def __init__(self, x=0, y=0):\n",
        "        self.x = x\n",
        "        self.y = y\n",
        "        \n",
        "    def move_rocket(self, x_increment=0, y_increment=1):\n",
        "        self.x += x_increment\n",
        "        self.y += y_increment\n",
        "        \n",
        "    def print_rocket(self):\n",
        "        print(self.x, self.y)\n",
        "\n",
        "roc1= Rocket(3,5)\n",
        "roc1.x\n",
        "roc1.y\n",
        "roc1.print_rocket()\n",
        "roc1.move_rocket(12,10)\n",
        "roc1.print_rocket()\n",
        "        "
      ],
      "execution_count": 1,
      "outputs": [
        {
          "output_type": "stream",
          "text": [
            "3 5\n",
            "15 15\n"
          ],
          "name": "stdout"
        }
      ]
    },
    {
      "cell_type": "code",
      "metadata": {
        "id": "HjxqMpWRAA-z",
        "colab_type": "code",
        "colab": {
          "base_uri": "https://localhost:8080/",
          "height": 52
        },
        "outputId": "f946af81-ca79-4b13-dd10-13ed8973392e"
      },
      "source": [
        "# Exercício 2 - Crie uma classe chamada Pessoa() com os atributos: nome, cidade, telefone e e-mail. Use pelo menos 2\n",
        "# métodos especiais na sua classe. Crie um objeto da sua classe e faça uma chamada a pelo menos um dos seus métodos\n",
        "# especiais.\n",
        "\n",
        "class Pessoa():\n",
        "  def __init__(self, nome,cidade,telefone,email):\n",
        "    self.nome = nome\n",
        "    self.cidade = cidade\n",
        "    self.telefone = telefone\n",
        "    self.email = email\n",
        "    print(\"Objeto criado\")\n",
        "\n",
        "  def __str__(self):\n",
        "    return(\"O usuário \" + self.nome + \" mora na cidade \" + self.cidade)\n",
        "\n",
        "P1 = Pessoa(\"Maria\", \"Brasilia\", 987675477, \"mariab@gmail.com\")\n",
        "str(P1)"
      ],
      "execution_count": 5,
      "outputs": [
        {
          "output_type": "stream",
          "text": [
            "Objeto criado\n"
          ],
          "name": "stdout"
        },
        {
          "output_type": "execute_result",
          "data": {
            "application/vnd.google.colaboratory.intrinsic": {
              "type": "string"
            },
            "text/plain": [
              "'O usuário Maria mora na cidade Brasilia'"
            ]
          },
          "metadata": {
            "tags": []
          },
          "execution_count": 5
        }
      ]
    },
    {
      "cell_type": "code",
      "metadata": {
        "id": "9CKawzmXAA-6",
        "colab_type": "code",
        "colab": {
          "base_uri": "https://localhost:8080/",
          "height": 34
        },
        "outputId": "6b451954-40db-4979-9a10-e11255a71565"
      },
      "source": [
        "# Exercício 3 - Crie a classe Smartphone com 2 atributos, tamanho e interface e crie a classe MP3Player com os \n",
        "# atributos capacidade. A classe MP3player deve herdar os atributos da classe Smartphone.\n",
        "\n",
        "class Smartphone(object):\n",
        "  def __init__(self,tamanho, interface):\n",
        "    self.tamanho = tamanho\n",
        "    self.interface = interface\n",
        "\n",
        "class MP3player(Smartphone):\n",
        "  def __init__(self, capacidade, tamanho = \"Grande\", interface = 'Led'):\n",
        "    self.capacidade = capacidade\n",
        "    Smartphone.__init__(self,tamanho, interface)\n",
        "\n",
        "  def print_mp3player(self):\n",
        "    print(\"Valores para o objeto criado %s %s %s\" %(self.tamanho, self.interface, self.capacidade))\n",
        "\n",
        "device1 = MP3player('64 GB')\n",
        "device1.print_mp3player()\n"
      ],
      "execution_count": 10,
      "outputs": [
        {
          "output_type": "stream",
          "text": [
            "Valores para o objeto criado Grande Led 64 GB\n"
          ],
          "name": "stdout"
        }
      ]
    },
    {
      "cell_type": "markdown",
      "metadata": {
        "id": "xW3M0_gEAA_C",
        "colab_type": "text"
      },
      "source": [
        "### FIM"
      ]
    },
    {
      "cell_type": "markdown",
      "metadata": {
        "id": "jOriLmuRAA_E",
        "colab_type": "text"
      },
      "source": [
        "### Obrigado - Data Science Academy - <a href=\"http://facebook.com/dsacademybr\">facebook.com/dsacademybr</a>"
      ]
    }
  ]
}