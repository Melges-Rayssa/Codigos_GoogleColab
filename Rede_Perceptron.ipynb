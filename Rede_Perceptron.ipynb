{
  "nbformat": 4,
  "nbformat_minor": 0,
  "metadata": {
    "colab": {
      "name": "Rede_Perceptron.ipynb",
      "provenance": [],
      "authorship_tag": "ABX9TyPPSGDRaV1qjMqME/hSuo6q",
      "include_colab_link": true
    },
    "kernelspec": {
      "name": "python3",
      "display_name": "Python 3"
    }
  },
  "cells": [
    {
      "cell_type": "markdown",
      "metadata": {
        "id": "view-in-github",
        "colab_type": "text"
      },
      "source": [
        "<a href=\"https://colab.research.google.com/github/Melges-Rayssa/Codigos_GoogleColab/blob/master/Rede_Perceptron.ipynb\" target=\"_parent\"><img src=\"https://colab.research.google.com/assets/colab-badge.svg\" alt=\"Open In Colab\"/></a>"
      ]
    },
    {
      "cell_type": "code",
      "metadata": {
        "id": "j3kmQwlAm1ZN",
        "colab_type": "code",
        "colab": {
          "base_uri": "https://localhost:8080/",
          "height": 34
        },
        "outputId": "0de40e92-e7a8-453d-bba1-2245c63a281a"
      },
      "source": [
        "#pesos (sinapses)\n",
        "w=[0,0,0,0]\n",
        "\n",
        "#entradas\n",
        "x=[[-1,-1,1,1], [1,1,1,1], [1,1,-1,1], [-1,-1,-1,1]]\n",
        "\n",
        "#respostad esperadas\n",
        "t=[1,1,1,-1]\n",
        "\n",
        "#bias(ajuste fino)\n",
        "b=0\n",
        "\n",
        "#saida\n",
        "y=0\n",
        "\n",
        "#numero maximo de interações\n",
        "max_int=10\n",
        "\n",
        "#taxa de aprendizado\n",
        "taxa_aprendizado =1\n",
        "\n",
        "#soma\n",
        "soma = 0\n",
        "\n",
        "#theshold\n",
        "threshold = 1\n",
        "\n",
        "#nome do animal\n",
        "animal = \"\"\n",
        "\n",
        "#resposta = acerto ou falha\n",
        "resposta = \"\"\n",
        "\n",
        "#dicionario de dados\n",
        "d = {'-1,-1,1,1':'cachorro',\n",
        "    '1,1,1,1':'gato', \n",
        "    '1,1,-1,1':'cavalo',\n",
        "    '-1,-1,-1,1' :'humano'}\n",
        "\n",
        "print(\"Treinando\")\n",
        "    \n",
        "#funcao para converter listas em strings\n",
        "def lisToSting(list):\n",
        "  s= str(list).strip('[]')\n",
        "  s= s.replace('','')\n",
        "#print(\"funcao\" + s)\n",
        "  return s"
      ],
      "execution_count": 56,
      "outputs": [
        {
          "output_type": "stream",
          "text": [
            "Treinando\n"
          ],
          "name": "stdout"
        }
      ]
    },
    {
      "cell_type": "code",
      "metadata": {
        "id": "MCPJViqSrgL9",
        "colab_type": "code",
        "colab": {
          "base_uri": "https://localhost:8080/",
          "height": 238
        },
        "outputId": "509fc52e-200a-4cc9-b777-bd1c33e6c8b2"
      },
      "source": [
        "#inicio do algoritmo\n",
        "for k in range(1,max_int):\n",
        "  acertos = 0\n",
        "  print(\"INTEREÇAO\"+str(k)+\"-------------------------\")\n",
        "  for i in range(0,len(x)):\n",
        "    soma = 0\n",
        "    # pega o nome do animal no dicionário\n",
        "    if(lisToSting(x[i])) in d:\n",
        "      animal = d[lisToSting(x[i])]\n",
        "else:\n",
        "      animal=\"\"\n",
        "\n",
        "      #para calcular a saida do perceptron,cada entreda de x e multiplicada\n",
        "      #pelo seu peso w corresposdente\n",
        "      for j in range (0,len(x[i])):\n",
        "        soma += x[i][j]* w[j]\n",
        "\n",
        "      # a saida e igual a adicao do bias com a soma anterior\n",
        "      y_in = b + soma\n",
        "      print(\"y_in = \", str(y_in))\n",
        "\n",
        "      #função de saida é determinada pela threshold\n",
        "      if y_in > threshold:\n",
        "        y=1\n",
        "      elif y_in >= -threshold and y_in <= threshold:\n",
        "        y=0\n",
        "      else:\n",
        "        y=-1\n",
        "\n",
        "      #atualiza os pesos caso a saída não corresponda ao valor esperado\n",
        "      if y == t[i]:\n",
        "        acertos+=1\n",
        "        resposta = \"acerto\"\n",
        "      else:\n",
        "        for j in range (0,len(w)):\n",
        "        #peso ant+(tx aprendicado*valor esperado*valor do x no vetor)\n",
        "          w[j]=w[j]+(taxa_aprendizado *t[i] *x[i][j])\n",
        "          print(\"Novo peso \" +str(j)+\" \"+str(w[j]))\n",
        "        #bias ou erro = classe anterior - classe atual\n",
        "        b = t[i] -y\n",
        "        resposta = \"Falha - pesp atualizado \"+\" Bias =\"+str(b)\n",
        "      #imprime a resposta\n",
        "      if y==1:\n",
        "        print(animal+\"= quadrupede = \"+resposta)\n",
        "      elif y==0:\n",
        "        print(animal+\"padrao nao identificado =\"+resposta)\n",
        "      elif y==-1:\n",
        "        print(animal+\"=bipede=\"+resposta)\n",
        "if acertos == len(x):\n",
        "      print(\"Funcionalidade aprendida com\" +str(k)+\"interacoes\")\n",
        "print(\"\")\n",
        "print(\"Finalizado\")\n"
      ],
      "execution_count": 59,
      "outputs": [
        {
          "output_type": "stream",
          "text": [
            "INTEREÇAO1-------------------------\n",
            "INTEREÇAO2-------------------------\n",
            "INTEREÇAO3-------------------------\n",
            "INTEREÇAO4-------------------------\n",
            "INTEREÇAO5-------------------------\n",
            "INTEREÇAO6-------------------------\n",
            "INTEREÇAO7-------------------------\n",
            "INTEREÇAO8-------------------------\n",
            "INTEREÇAO9-------------------------\n",
            "y_in =  -5\n",
            "=bipede=acerto\n",
            "\n",
            "Finalizado\n"
          ],
          "name": "stdout"
        }
      ]
    }
  ]
}