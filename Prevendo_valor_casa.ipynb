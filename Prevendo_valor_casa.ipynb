{
  "nbformat": 4,
  "nbformat_minor": 0,
  "metadata": {
    "colab": {
      "name": "Prevendo_valor_casa.ipynb",
      "provenance": [],
      "authorship_tag": "ABX9TyN7fEJNaLfOeY4me8abx9l6",
      "include_colab_link": true
    },
    "kernelspec": {
      "name": "python3",
      "display_name": "Python 3"
    }
  },
  "cells": [
    {
      "cell_type": "markdown",
      "metadata": {
        "id": "view-in-github",
        "colab_type": "text"
      },
      "source": [
        "<a href=\"https://colab.research.google.com/github/Melges-Rayssa/Codigos_GoogleColab/blob/master/Prevendo_valor_casa.ipynb\" target=\"_parent\"><img src=\"https://colab.research.google.com/assets/colab-badge.svg\" alt=\"Open In Colab\"/></a>"
      ]
    },
    {
      "cell_type": "code",
      "metadata": {
        "id": "pTRDYXW9Dlai",
        "colab_type": "code",
        "colab": {}
      },
      "source": [
        "# prevendo o preço das casas de boston\n",
        "import matplotlib.pyplot as plt\n",
        "import numpy as np\n",
        "import pandas as pd\n",
        "import scipy.stats as stats\n",
        "import sklearn\n",
        "%matplotlib inline"
      ],
      "execution_count": 1,
      "outputs": []
    },
    {
      "cell_type": "code",
      "metadata": {
        "id": "PuvaCr2NENhQ",
        "colab_type": "code",
        "colab": {}
      },
      "source": [
        "#carregando o dataset\n",
        "from sklearn.datasets import load_boston\n",
        "boston = load_boston()"
      ],
      "execution_count": 3,
      "outputs": []
    },
    {
      "cell_type": "code",
      "metadata": {
        "id": "jPkAgLzdExFM",
        "colab_type": "code",
        "colab": {
          "base_uri": "https://localhost:8080/",
          "height": 34
        },
        "outputId": "f438edf7-9e8f-4833-f875-a9d38975c81b"
      },
      "source": [
        "#verificando o tipo da variável\n",
        "type(boston)"
      ],
      "execution_count": 4,
      "outputs": [
        {
          "output_type": "execute_result",
          "data": {
            "text/plain": [
              "sklearn.utils.Bunch"
            ]
          },
          "metadata": {
            "tags": []
          },
          "execution_count": 4
        }
      ]
    },
    {
      "cell_type": "code",
      "metadata": {
        "id": "vntLBFxRF2KE",
        "colab_type": "code",
        "colab": {
          "base_uri": "https://localhost:8080/",
          "height": 34
        },
        "outputId": "05d65d13-65d6-492b-b33a-87662b90f595"
      },
      "source": [
        "#visualizando o shape do dataset (shape e para visualizar as dimensões, linhas e colunas)\n",
        "boston.data.shape"
      ],
      "execution_count": 5,
      "outputs": [
        {
          "output_type": "execute_result",
          "data": {
            "text/plain": [
              "(506, 13)"
            ]
          },
          "metadata": {
            "tags": []
          },
          "execution_count": 5
        }
      ]
    },
    {
      "cell_type": "code",
      "metadata": {
        "id": "AG7VCzNtGhSO",
        "colab_type": "code",
        "colab": {
          "base_uri": "https://localhost:8080/",
          "height": 904
        },
        "outputId": "0a3f48cc-4a39-4005-b0a5-7cbfb846f9d5"
      },
      "source": [
        "#descrição do dataset\n",
        "print(boston.DESCR)\n"
      ],
      "execution_count": 6,
      "outputs": [
        {
          "output_type": "stream",
          "text": [
            ".. _boston_dataset:\n",
            "\n",
            "Boston house prices dataset\n",
            "---------------------------\n",
            "\n",
            "**Data Set Characteristics:**  \n",
            "\n",
            "    :Number of Instances: 506 \n",
            "\n",
            "    :Number of Attributes: 13 numeric/categorical predictive. Median Value (attribute 14) is usually the target.\n",
            "\n",
            "    :Attribute Information (in order):\n",
            "        - CRIM     per capita crime rate by town\n",
            "        - ZN       proportion of residential land zoned for lots over 25,000 sq.ft.\n",
            "        - INDUS    proportion of non-retail business acres per town\n",
            "        - CHAS     Charles River dummy variable (= 1 if tract bounds river; 0 otherwise)\n",
            "        - NOX      nitric oxides concentration (parts per 10 million)\n",
            "        - RM       average number of rooms per dwelling\n",
            "        - AGE      proportion of owner-occupied units built prior to 1940\n",
            "        - DIS      weighted distances to five Boston employment centres\n",
            "        - RAD      index of accessibility to radial highways\n",
            "        - TAX      full-value property-tax rate per $10,000\n",
            "        - PTRATIO  pupil-teacher ratio by town\n",
            "        - B        1000(Bk - 0.63)^2 where Bk is the proportion of blacks by town\n",
            "        - LSTAT    % lower status of the population\n",
            "        - MEDV     Median value of owner-occupied homes in $1000's\n",
            "\n",
            "    :Missing Attribute Values: None\n",
            "\n",
            "    :Creator: Harrison, D. and Rubinfeld, D.L.\n",
            "\n",
            "This is a copy of UCI ML housing dataset.\n",
            "https://archive.ics.uci.edu/ml/machine-learning-databases/housing/\n",
            "\n",
            "\n",
            "This dataset was taken from the StatLib library which is maintained at Carnegie Mellon University.\n",
            "\n",
            "The Boston house-price data of Harrison, D. and Rubinfeld, D.L. 'Hedonic\n",
            "prices and the demand for clean air', J. Environ. Economics & Management,\n",
            "vol.5, 81-102, 1978.   Used in Belsley, Kuh & Welsch, 'Regression diagnostics\n",
            "...', Wiley, 1980.   N.B. Various transformations are used in the table on\n",
            "pages 244-261 of the latter.\n",
            "\n",
            "The Boston house-price data has been used in many machine learning papers that address regression\n",
            "problems.   \n",
            "     \n",
            ".. topic:: References\n",
            "\n",
            "   - Belsley, Kuh & Welsch, 'Regression diagnostics: Identifying Influential Data and Sources of Collinearity', Wiley, 1980. 244-261.\n",
            "   - Quinlan,R. (1993). Combining Instance-Based and Model-Based Learning. In Proceedings on the Tenth International Conference of Machine Learning, 236-243, University of Massachusetts, Amherst. Morgan Kaufmann.\n",
            "\n"
          ],
          "name": "stdout"
        }
      ]
    },
    {
      "cell_type": "code",
      "metadata": {
        "id": "9FvrYeNjGwEJ",
        "colab_type": "code",
        "colab": {
          "base_uri": "https://localhost:8080/",
          "height": 51
        },
        "outputId": "77a8ee4f-5bed-4927-97ae-f21b138b25e3"
      },
      "source": [
        "#nomes dos atributos\n",
        "print(boston.feature_names)"
      ],
      "execution_count": 7,
      "outputs": [
        {
          "output_type": "stream",
          "text": [
            "['CRIM' 'ZN' 'INDUS' 'CHAS' 'NOX' 'RM' 'AGE' 'DIS' 'RAD' 'TAX' 'PTRATIO'\n",
            " 'B' 'LSTAT']\n"
          ],
          "name": "stdout"
        }
      ]
    },
    {
      "cell_type": "code",
      "metadata": {
        "id": "P0lbd_WmG4hO",
        "colab_type": "code",
        "colab": {
          "base_uri": "https://localhost:8080/",
          "height": 204
        },
        "outputId": "7d4aa509-832f-4390-e560-2b9231a98db6"
      },
      "source": [
        "# convertendo o dataset em dataframe\n",
        "df = pd.DataFrame(boston.data)\n",
        "df.head()"
      ],
      "execution_count": 24,
      "outputs": [
        {
          "output_type": "execute_result",
          "data": {
            "text/html": [
              "<div>\n",
              "<style scoped>\n",
              "    .dataframe tbody tr th:only-of-type {\n",
              "        vertical-align: middle;\n",
              "    }\n",
              "\n",
              "    .dataframe tbody tr th {\n",
              "        vertical-align: top;\n",
              "    }\n",
              "\n",
              "    .dataframe thead th {\n",
              "        text-align: right;\n",
              "    }\n",
              "</style>\n",
              "<table border=\"1\" class=\"dataframe\">\n",
              "  <thead>\n",
              "    <tr style=\"text-align: right;\">\n",
              "      <th></th>\n",
              "      <th>0</th>\n",
              "      <th>1</th>\n",
              "      <th>2</th>\n",
              "      <th>3</th>\n",
              "      <th>4</th>\n",
              "      <th>5</th>\n",
              "      <th>6</th>\n",
              "      <th>7</th>\n",
              "      <th>8</th>\n",
              "      <th>9</th>\n",
              "      <th>10</th>\n",
              "      <th>11</th>\n",
              "      <th>12</th>\n",
              "    </tr>\n",
              "  </thead>\n",
              "  <tbody>\n",
              "    <tr>\n",
              "      <th>0</th>\n",
              "      <td>0.00632</td>\n",
              "      <td>18.0</td>\n",
              "      <td>2.31</td>\n",
              "      <td>0.0</td>\n",
              "      <td>0.538</td>\n",
              "      <td>6.575</td>\n",
              "      <td>65.2</td>\n",
              "      <td>4.0900</td>\n",
              "      <td>1.0</td>\n",
              "      <td>296.0</td>\n",
              "      <td>15.3</td>\n",
              "      <td>396.90</td>\n",
              "      <td>4.98</td>\n",
              "    </tr>\n",
              "    <tr>\n",
              "      <th>1</th>\n",
              "      <td>0.02731</td>\n",
              "      <td>0.0</td>\n",
              "      <td>7.07</td>\n",
              "      <td>0.0</td>\n",
              "      <td>0.469</td>\n",
              "      <td>6.421</td>\n",
              "      <td>78.9</td>\n",
              "      <td>4.9671</td>\n",
              "      <td>2.0</td>\n",
              "      <td>242.0</td>\n",
              "      <td>17.8</td>\n",
              "      <td>396.90</td>\n",
              "      <td>9.14</td>\n",
              "    </tr>\n",
              "    <tr>\n",
              "      <th>2</th>\n",
              "      <td>0.02729</td>\n",
              "      <td>0.0</td>\n",
              "      <td>7.07</td>\n",
              "      <td>0.0</td>\n",
              "      <td>0.469</td>\n",
              "      <td>7.185</td>\n",
              "      <td>61.1</td>\n",
              "      <td>4.9671</td>\n",
              "      <td>2.0</td>\n",
              "      <td>242.0</td>\n",
              "      <td>17.8</td>\n",
              "      <td>392.83</td>\n",
              "      <td>4.03</td>\n",
              "    </tr>\n",
              "    <tr>\n",
              "      <th>3</th>\n",
              "      <td>0.03237</td>\n",
              "      <td>0.0</td>\n",
              "      <td>2.18</td>\n",
              "      <td>0.0</td>\n",
              "      <td>0.458</td>\n",
              "      <td>6.998</td>\n",
              "      <td>45.8</td>\n",
              "      <td>6.0622</td>\n",
              "      <td>3.0</td>\n",
              "      <td>222.0</td>\n",
              "      <td>18.7</td>\n",
              "      <td>394.63</td>\n",
              "      <td>2.94</td>\n",
              "    </tr>\n",
              "    <tr>\n",
              "      <th>4</th>\n",
              "      <td>0.06905</td>\n",
              "      <td>0.0</td>\n",
              "      <td>2.18</td>\n",
              "      <td>0.0</td>\n",
              "      <td>0.458</td>\n",
              "      <td>7.147</td>\n",
              "      <td>54.2</td>\n",
              "      <td>6.0622</td>\n",
              "      <td>3.0</td>\n",
              "      <td>222.0</td>\n",
              "      <td>18.7</td>\n",
              "      <td>396.90</td>\n",
              "      <td>5.33</td>\n",
              "    </tr>\n",
              "  </tbody>\n",
              "</table>\n",
              "</div>"
            ],
            "text/plain": [
              "        0     1     2    3      4   ...   8      9     10      11    12\n",
              "0  0.00632  18.0  2.31  0.0  0.538  ...  1.0  296.0  15.3  396.90  4.98\n",
              "1  0.02731   0.0  7.07  0.0  0.469  ...  2.0  242.0  17.8  396.90  9.14\n",
              "2  0.02729   0.0  7.07  0.0  0.469  ...  2.0  242.0  17.8  392.83  4.03\n",
              "3  0.03237   0.0  2.18  0.0  0.458  ...  3.0  222.0  18.7  394.63  2.94\n",
              "4  0.06905   0.0  2.18  0.0  0.458  ...  3.0  222.0  18.7  396.90  5.33\n",
              "\n",
              "[5 rows x 13 columns]"
            ]
          },
          "metadata": {
            "tags": []
          },
          "execution_count": 24
        }
      ]
    },
    {
      "cell_type": "code",
      "metadata": {
        "id": "ltAdbtIdG9kr",
        "colab_type": "code",
        "colab": {
          "base_uri": "https://localhost:8080/",
          "height": 204
        },
        "outputId": "31bf28de-d1b8-4e22-de4f-299659145698"
      },
      "source": [
        "# convertendo o título das colunas\n",
        "df.columns = boston.feature_names\n",
        "df.head()\n"
      ],
      "execution_count": 25,
      "outputs": [
        {
          "output_type": "execute_result",
          "data": {
            "text/html": [
              "<div>\n",
              "<style scoped>\n",
              "    .dataframe tbody tr th:only-of-type {\n",
              "        vertical-align: middle;\n",
              "    }\n",
              "\n",
              "    .dataframe tbody tr th {\n",
              "        vertical-align: top;\n",
              "    }\n",
              "\n",
              "    .dataframe thead th {\n",
              "        text-align: right;\n",
              "    }\n",
              "</style>\n",
              "<table border=\"1\" class=\"dataframe\">\n",
              "  <thead>\n",
              "    <tr style=\"text-align: right;\">\n",
              "      <th></th>\n",
              "      <th>CRIM</th>\n",
              "      <th>ZN</th>\n",
              "      <th>INDUS</th>\n",
              "      <th>CHAS</th>\n",
              "      <th>NOX</th>\n",
              "      <th>RM</th>\n",
              "      <th>AGE</th>\n",
              "      <th>DIS</th>\n",
              "      <th>RAD</th>\n",
              "      <th>TAX</th>\n",
              "      <th>PTRATIO</th>\n",
              "      <th>B</th>\n",
              "      <th>LSTAT</th>\n",
              "    </tr>\n",
              "  </thead>\n",
              "  <tbody>\n",
              "    <tr>\n",
              "      <th>0</th>\n",
              "      <td>0.00632</td>\n",
              "      <td>18.0</td>\n",
              "      <td>2.31</td>\n",
              "      <td>0.0</td>\n",
              "      <td>0.538</td>\n",
              "      <td>6.575</td>\n",
              "      <td>65.2</td>\n",
              "      <td>4.0900</td>\n",
              "      <td>1.0</td>\n",
              "      <td>296.0</td>\n",
              "      <td>15.3</td>\n",
              "      <td>396.90</td>\n",
              "      <td>4.98</td>\n",
              "    </tr>\n",
              "    <tr>\n",
              "      <th>1</th>\n",
              "      <td>0.02731</td>\n",
              "      <td>0.0</td>\n",
              "      <td>7.07</td>\n",
              "      <td>0.0</td>\n",
              "      <td>0.469</td>\n",
              "      <td>6.421</td>\n",
              "      <td>78.9</td>\n",
              "      <td>4.9671</td>\n",
              "      <td>2.0</td>\n",
              "      <td>242.0</td>\n",
              "      <td>17.8</td>\n",
              "      <td>396.90</td>\n",
              "      <td>9.14</td>\n",
              "    </tr>\n",
              "    <tr>\n",
              "      <th>2</th>\n",
              "      <td>0.02729</td>\n",
              "      <td>0.0</td>\n",
              "      <td>7.07</td>\n",
              "      <td>0.0</td>\n",
              "      <td>0.469</td>\n",
              "      <td>7.185</td>\n",
              "      <td>61.1</td>\n",
              "      <td>4.9671</td>\n",
              "      <td>2.0</td>\n",
              "      <td>242.0</td>\n",
              "      <td>17.8</td>\n",
              "      <td>392.83</td>\n",
              "      <td>4.03</td>\n",
              "    </tr>\n",
              "    <tr>\n",
              "      <th>3</th>\n",
              "      <td>0.03237</td>\n",
              "      <td>0.0</td>\n",
              "      <td>2.18</td>\n",
              "      <td>0.0</td>\n",
              "      <td>0.458</td>\n",
              "      <td>6.998</td>\n",
              "      <td>45.8</td>\n",
              "      <td>6.0622</td>\n",
              "      <td>3.0</td>\n",
              "      <td>222.0</td>\n",
              "      <td>18.7</td>\n",
              "      <td>394.63</td>\n",
              "      <td>2.94</td>\n",
              "    </tr>\n",
              "    <tr>\n",
              "      <th>4</th>\n",
              "      <td>0.06905</td>\n",
              "      <td>0.0</td>\n",
              "      <td>2.18</td>\n",
              "      <td>0.0</td>\n",
              "      <td>0.458</td>\n",
              "      <td>7.147</td>\n",
              "      <td>54.2</td>\n",
              "      <td>6.0622</td>\n",
              "      <td>3.0</td>\n",
              "      <td>222.0</td>\n",
              "      <td>18.7</td>\n",
              "      <td>396.90</td>\n",
              "      <td>5.33</td>\n",
              "    </tr>\n",
              "  </tbody>\n",
              "</table>\n",
              "</div>"
            ],
            "text/plain": [
              "      CRIM    ZN  INDUS  CHAS    NOX  ...  RAD    TAX  PTRATIO       B  LSTAT\n",
              "0  0.00632  18.0   2.31   0.0  0.538  ...  1.0  296.0     15.3  396.90   4.98\n",
              "1  0.02731   0.0   7.07   0.0  0.469  ...  2.0  242.0     17.8  396.90   9.14\n",
              "2  0.02729   0.0   7.07   0.0  0.469  ...  2.0  242.0     17.8  392.83   4.03\n",
              "3  0.03237   0.0   2.18   0.0  0.458  ...  3.0  222.0     18.7  394.63   2.94\n",
              "4  0.06905   0.0   2.18   0.0  0.458  ...  3.0  222.0     18.7  396.90   5.33\n",
              "\n",
              "[5 rows x 13 columns]"
            ]
          },
          "metadata": {
            "tags": []
          },
          "execution_count": 25
        }
      ]
    },
    {
      "cell_type": "code",
      "metadata": {
        "id": "SM_GhQYKMuZE",
        "colab_type": "code",
        "colab": {
          "base_uri": "https://localhost:8080/",
          "height": 799
        },
        "outputId": "98d0f3f6-a9f3-4279-9960-a1940a581cbf"
      },
      "source": [
        "#boston.target é uma array com o preço das casas(target e o preço das casas)\n",
        "boston.target"
      ],
      "execution_count": 10,
      "outputs": [
        {
          "output_type": "execute_result",
          "data": {
            "text/plain": [
              "array([24. , 21.6, 34.7, 33.4, 36.2, 28.7, 22.9, 27.1, 16.5, 18.9, 15. ,\n",
              "       18.9, 21.7, 20.4, 18.2, 19.9, 23.1, 17.5, 20.2, 18.2, 13.6, 19.6,\n",
              "       15.2, 14.5, 15.6, 13.9, 16.6, 14.8, 18.4, 21. , 12.7, 14.5, 13.2,\n",
              "       13.1, 13.5, 18.9, 20. , 21. , 24.7, 30.8, 34.9, 26.6, 25.3, 24.7,\n",
              "       21.2, 19.3, 20. , 16.6, 14.4, 19.4, 19.7, 20.5, 25. , 23.4, 18.9,\n",
              "       35.4, 24.7, 31.6, 23.3, 19.6, 18.7, 16. , 22.2, 25. , 33. , 23.5,\n",
              "       19.4, 22. , 17.4, 20.9, 24.2, 21.7, 22.8, 23.4, 24.1, 21.4, 20. ,\n",
              "       20.8, 21.2, 20.3, 28. , 23.9, 24.8, 22.9, 23.9, 26.6, 22.5, 22.2,\n",
              "       23.6, 28.7, 22.6, 22. , 22.9, 25. , 20.6, 28.4, 21.4, 38.7, 43.8,\n",
              "       33.2, 27.5, 26.5, 18.6, 19.3, 20.1, 19.5, 19.5, 20.4, 19.8, 19.4,\n",
              "       21.7, 22.8, 18.8, 18.7, 18.5, 18.3, 21.2, 19.2, 20.4, 19.3, 22. ,\n",
              "       20.3, 20.5, 17.3, 18.8, 21.4, 15.7, 16.2, 18. , 14.3, 19.2, 19.6,\n",
              "       23. , 18.4, 15.6, 18.1, 17.4, 17.1, 13.3, 17.8, 14. , 14.4, 13.4,\n",
              "       15.6, 11.8, 13.8, 15.6, 14.6, 17.8, 15.4, 21.5, 19.6, 15.3, 19.4,\n",
              "       17. , 15.6, 13.1, 41.3, 24.3, 23.3, 27. , 50. , 50. , 50. , 22.7,\n",
              "       25. , 50. , 23.8, 23.8, 22.3, 17.4, 19.1, 23.1, 23.6, 22.6, 29.4,\n",
              "       23.2, 24.6, 29.9, 37.2, 39.8, 36.2, 37.9, 32.5, 26.4, 29.6, 50. ,\n",
              "       32. , 29.8, 34.9, 37. , 30.5, 36.4, 31.1, 29.1, 50. , 33.3, 30.3,\n",
              "       34.6, 34.9, 32.9, 24.1, 42.3, 48.5, 50. , 22.6, 24.4, 22.5, 24.4,\n",
              "       20. , 21.7, 19.3, 22.4, 28.1, 23.7, 25. , 23.3, 28.7, 21.5, 23. ,\n",
              "       26.7, 21.7, 27.5, 30.1, 44.8, 50. , 37.6, 31.6, 46.7, 31.5, 24.3,\n",
              "       31.7, 41.7, 48.3, 29. , 24. , 25.1, 31.5, 23.7, 23.3, 22. , 20.1,\n",
              "       22.2, 23.7, 17.6, 18.5, 24.3, 20.5, 24.5, 26.2, 24.4, 24.8, 29.6,\n",
              "       42.8, 21.9, 20.9, 44. , 50. , 36. , 30.1, 33.8, 43.1, 48.8, 31. ,\n",
              "       36.5, 22.8, 30.7, 50. , 43.5, 20.7, 21.1, 25.2, 24.4, 35.2, 32.4,\n",
              "       32. , 33.2, 33.1, 29.1, 35.1, 45.4, 35.4, 46. , 50. , 32.2, 22. ,\n",
              "       20.1, 23.2, 22.3, 24.8, 28.5, 37.3, 27.9, 23.9, 21.7, 28.6, 27.1,\n",
              "       20.3, 22.5, 29. , 24.8, 22. , 26.4, 33.1, 36.1, 28.4, 33.4, 28.2,\n",
              "       22.8, 20.3, 16.1, 22.1, 19.4, 21.6, 23.8, 16.2, 17.8, 19.8, 23.1,\n",
              "       21. , 23.8, 23.1, 20.4, 18.5, 25. , 24.6, 23. , 22.2, 19.3, 22.6,\n",
              "       19.8, 17.1, 19.4, 22.2, 20.7, 21.1, 19.5, 18.5, 20.6, 19. , 18.7,\n",
              "       32.7, 16.5, 23.9, 31.2, 17.5, 17.2, 23.1, 24.5, 26.6, 22.9, 24.1,\n",
              "       18.6, 30.1, 18.2, 20.6, 17.8, 21.7, 22.7, 22.6, 25. , 19.9, 20.8,\n",
              "       16.8, 21.9, 27.5, 21.9, 23.1, 50. , 50. , 50. , 50. , 50. , 13.8,\n",
              "       13.8, 15. , 13.9, 13.3, 13.1, 10.2, 10.4, 10.9, 11.3, 12.3,  8.8,\n",
              "        7.2, 10.5,  7.4, 10.2, 11.5, 15.1, 23.2,  9.7, 13.8, 12.7, 13.1,\n",
              "       12.5,  8.5,  5. ,  6.3,  5.6,  7.2, 12.1,  8.3,  8.5,  5. , 11.9,\n",
              "       27.9, 17.2, 27.5, 15. , 17.2, 17.9, 16.3,  7. ,  7.2,  7.5, 10.4,\n",
              "        8.8,  8.4, 16.7, 14.2, 20.8, 13.4, 11.7,  8.3, 10.2, 10.9, 11. ,\n",
              "        9.5, 14.5, 14.1, 16.1, 14.3, 11.7, 13.4,  9.6,  8.7,  8.4, 12.8,\n",
              "       10.5, 17.1, 18.4, 15.4, 10.8, 11.8, 14.9, 12.6, 14.1, 13. , 13.4,\n",
              "       15.2, 16.1, 17.8, 14.9, 14.1, 12.7, 13.5, 14.9, 20. , 16.4, 17.7,\n",
              "       19.5, 20.2, 21.4, 19.9, 19. , 19.1, 19.1, 20.1, 19.9, 19.6, 23.2,\n",
              "       29.8, 13.8, 13.3, 16.7, 12. , 14.6, 21.4, 23. , 23.7, 25. , 21.8,\n",
              "       20.6, 21.2, 19.1, 20.6, 15.2,  7. ,  8.1, 13.6, 20.1, 21.8, 24.5,\n",
              "       23.1, 19.7, 18.3, 21.2, 17.5, 16.8, 22.4, 20.6, 23.9, 22. , 11.9])"
            ]
          },
          "metadata": {
            "tags": []
          },
          "execution_count": 10
        }
      ]
    },
    {
      "cell_type": "code",
      "metadata": {
        "id": "tI0x9UPaQ3DB",
        "colab_type": "code",
        "colab": {
          "base_uri": "https://localhost:8080/",
          "height": 204
        },
        "outputId": "6f161da1-29d4-4c37-f46c-9e27ac42b38c"
      },
      "source": [
        "#adicionando o preço da casa ao dataframe\n",
        "df['PRICE'] = boston.target\n",
        "df.head()"
      ],
      "execution_count": 26,
      "outputs": [
        {
          "output_type": "execute_result",
          "data": {
            "text/html": [
              "<div>\n",
              "<style scoped>\n",
              "    .dataframe tbody tr th:only-of-type {\n",
              "        vertical-align: middle;\n",
              "    }\n",
              "\n",
              "    .dataframe tbody tr th {\n",
              "        vertical-align: top;\n",
              "    }\n",
              "\n",
              "    .dataframe thead th {\n",
              "        text-align: right;\n",
              "    }\n",
              "</style>\n",
              "<table border=\"1\" class=\"dataframe\">\n",
              "  <thead>\n",
              "    <tr style=\"text-align: right;\">\n",
              "      <th></th>\n",
              "      <th>CRIM</th>\n",
              "      <th>ZN</th>\n",
              "      <th>INDUS</th>\n",
              "      <th>CHAS</th>\n",
              "      <th>NOX</th>\n",
              "      <th>RM</th>\n",
              "      <th>AGE</th>\n",
              "      <th>DIS</th>\n",
              "      <th>RAD</th>\n",
              "      <th>TAX</th>\n",
              "      <th>PTRATIO</th>\n",
              "      <th>B</th>\n",
              "      <th>LSTAT</th>\n",
              "      <th>PRICE</th>\n",
              "    </tr>\n",
              "  </thead>\n",
              "  <tbody>\n",
              "    <tr>\n",
              "      <th>0</th>\n",
              "      <td>0.00632</td>\n",
              "      <td>18.0</td>\n",
              "      <td>2.31</td>\n",
              "      <td>0.0</td>\n",
              "      <td>0.538</td>\n",
              "      <td>6.575</td>\n",
              "      <td>65.2</td>\n",
              "      <td>4.0900</td>\n",
              "      <td>1.0</td>\n",
              "      <td>296.0</td>\n",
              "      <td>15.3</td>\n",
              "      <td>396.90</td>\n",
              "      <td>4.98</td>\n",
              "      <td>24.0</td>\n",
              "    </tr>\n",
              "    <tr>\n",
              "      <th>1</th>\n",
              "      <td>0.02731</td>\n",
              "      <td>0.0</td>\n",
              "      <td>7.07</td>\n",
              "      <td>0.0</td>\n",
              "      <td>0.469</td>\n",
              "      <td>6.421</td>\n",
              "      <td>78.9</td>\n",
              "      <td>4.9671</td>\n",
              "      <td>2.0</td>\n",
              "      <td>242.0</td>\n",
              "      <td>17.8</td>\n",
              "      <td>396.90</td>\n",
              "      <td>9.14</td>\n",
              "      <td>21.6</td>\n",
              "    </tr>\n",
              "    <tr>\n",
              "      <th>2</th>\n",
              "      <td>0.02729</td>\n",
              "      <td>0.0</td>\n",
              "      <td>7.07</td>\n",
              "      <td>0.0</td>\n",
              "      <td>0.469</td>\n",
              "      <td>7.185</td>\n",
              "      <td>61.1</td>\n",
              "      <td>4.9671</td>\n",
              "      <td>2.0</td>\n",
              "      <td>242.0</td>\n",
              "      <td>17.8</td>\n",
              "      <td>392.83</td>\n",
              "      <td>4.03</td>\n",
              "      <td>34.7</td>\n",
              "    </tr>\n",
              "    <tr>\n",
              "      <th>3</th>\n",
              "      <td>0.03237</td>\n",
              "      <td>0.0</td>\n",
              "      <td>2.18</td>\n",
              "      <td>0.0</td>\n",
              "      <td>0.458</td>\n",
              "      <td>6.998</td>\n",
              "      <td>45.8</td>\n",
              "      <td>6.0622</td>\n",
              "      <td>3.0</td>\n",
              "      <td>222.0</td>\n",
              "      <td>18.7</td>\n",
              "      <td>394.63</td>\n",
              "      <td>2.94</td>\n",
              "      <td>33.4</td>\n",
              "    </tr>\n",
              "    <tr>\n",
              "      <th>4</th>\n",
              "      <td>0.06905</td>\n",
              "      <td>0.0</td>\n",
              "      <td>2.18</td>\n",
              "      <td>0.0</td>\n",
              "      <td>0.458</td>\n",
              "      <td>7.147</td>\n",
              "      <td>54.2</td>\n",
              "      <td>6.0622</td>\n",
              "      <td>3.0</td>\n",
              "      <td>222.0</td>\n",
              "      <td>18.7</td>\n",
              "      <td>396.90</td>\n",
              "      <td>5.33</td>\n",
              "      <td>36.2</td>\n",
              "    </tr>\n",
              "  </tbody>\n",
              "</table>\n",
              "</div>"
            ],
            "text/plain": [
              "      CRIM    ZN  INDUS  CHAS    NOX  ...    TAX  PTRATIO       B  LSTAT  PRICE\n",
              "0  0.00632  18.0   2.31   0.0  0.538  ...  296.0     15.3  396.90   4.98   24.0\n",
              "1  0.02731   0.0   7.07   0.0  0.469  ...  242.0     17.8  396.90   9.14   21.6\n",
              "2  0.02729   0.0   7.07   0.0  0.469  ...  242.0     17.8  392.83   4.03   34.7\n",
              "3  0.03237   0.0   2.18   0.0  0.458  ...  222.0     18.7  394.63   2.94   33.4\n",
              "4  0.06905   0.0   2.18   0.0  0.458  ...  222.0     18.7  396.90   5.33   36.2\n",
              "\n",
              "[5 rows x 14 columns]"
            ]
          },
          "metadata": {
            "tags": []
          },
          "execution_count": 26
        }
      ]
    },
    {
      "cell_type": "code",
      "metadata": {
        "id": "CWXLd4zaRgpg",
        "colab_type": "code",
        "colab": {}
      },
      "source": [
        "# y = variável dependente ( preço das casas em boston)\n",
        "# x = variáveis independnetes (todas as outras caracteristicas da casa)"
      ],
      "execution_count": null,
      "outputs": []
    },
    {
      "cell_type": "code",
      "metadata": {
        "id": "sCLYsbojSqlM",
        "colab_type": "code",
        "colab": {}
      },
      "source": [
        "# importando o módulo de regressão linear\n",
        "from sklearn.linear_model import LinearRegression"
      ],
      "execution_count": 27,
      "outputs": []
    },
    {
      "cell_type": "code",
      "metadata": {
        "id": "RYfUboNxS_VL",
        "colab_type": "code",
        "colab": {}
      },
      "source": [
        "x = df.drop('PRICE', axis=1)"
      ],
      "execution_count": 29,
      "outputs": []
    },
    {
      "cell_type": "code",
      "metadata": {
        "id": "J87UZpb2Uleb",
        "colab_type": "code",
        "colab": {}
      },
      "source": [
        "y = df.PRICE"
      ],
      "execution_count": 30,
      "outputs": []
    },
    {
      "cell_type": "code",
      "metadata": {
        "id": "pUTkSf_YVWP3",
        "colab_type": "code",
        "colab": {
          "base_uri": "https://localhost:8080/",
          "height": 313
        },
        "outputId": "f3e9d949-33a8-4e10-d749-27d79d61ea56"
      },
      "source": [
        "#criando um plot para visualizar a relação\n",
        "plt.scatter(df.RM, y)\n",
        "plt.xlabel(\"Média do Npumero de Quartos pro Casa\")\n",
        "plt.ylabel(\"Preço da Casa\")\n",
        "plt.title(\"Relação entre número de quartos e preçp\")"
      ],
      "execution_count": 32,
      "outputs": [
        {
          "output_type": "execute_result",
          "data": {
            "text/plain": [
              "Text(0.5, 1.0, 'Relação entre número de quartos e preçp')"
            ]
          },
          "metadata": {
            "tags": []
          },
          "execution_count": 32
        },
        {
          "output_type": "display_data",
          "data": {
            "image/png": "[encoded data removed]",
            "text/plain": [
              "<Figure size 432x288 with 1 Axes>"
            ]
          },
          "metadata": {
            "tags": [],
            "needs_background": "light"
          }
        }
      ]
    },
    {
      "cell_type": "code",
      "metadata": {
        "id": "9xktI5MAWQUx",
        "colab_type": "code",
        "colab": {}
      },
      "source": [
        "# criando o objeto de regressão linear\n",
        "regr = LinearRegression()"
      ],
      "execution_count": 33,
      "outputs": []
    },
    {
      "cell_type": "code",
      "metadata": {
        "id": "ECbcyHqJWavb",
        "colab_type": "code",
        "colab": {
          "base_uri": "https://localhost:8080/",
          "height": 34
        },
        "outputId": "44adc2ad-5105-4a7c-ffbf-1b16a089d299"
      },
      "source": [
        "#tipo do objeto\n",
        "type (regr)"
      ],
      "execution_count": 34,
      "outputs": [
        {
          "output_type": "execute_result",
          "data": {
            "text/plain": [
              "sklearn.linear_model._base.LinearRegression"
            ]
          },
          "metadata": {
            "tags": []
          },
          "execution_count": 34
        }
      ]
    },
    {
      "cell_type": "code",
      "metadata": {
        "id": "nm1pGI1kWjZK",
        "colab_type": "code",
        "colab": {
          "base_uri": "https://localhost:8080/",
          "height": 54
        },
        "outputId": "883bd6cd-cc1a-48e9-d49a-d848ca069f7a"
      },
      "source": [
        "#treinando o modelo (função fit treina o modelo)\n",
        "regr.fit(x,y)"
      ],
      "execution_count": 35,
      "outputs": [
        {
          "output_type": "execute_result",
          "data": {
            "text/plain": [
              "LinearRegression(copy_X=True, fit_intercept=True, n_jobs=None, normalize=False)"
            ]
          },
          "metadata": {
            "tags": []
          },
          "execution_count": 35
        }
      ]
    },
    {
      "cell_type": "code",
      "metadata": {
        "id": "UygV75ZHWtuZ",
        "colab_type": "code",
        "colab": {
          "base_uri": "https://localhost:8080/",
          "height": 51
        },
        "outputId": "ec0e9473-dede-4483-8fa8-da82b9359f38"
      },
      "source": [
        "#coedicientes\n",
        "print(\"Coeficiente: \", regr.intercept_)\n",
        "print (\"Número de Coeficientes: \", len(regr.coef_))"
      ],
      "execution_count": 36,
      "outputs": [
        {
          "output_type": "stream",
          "text": [
            "Coeficiente:  36.45948838508978\n",
            "Número de Coeficientes:  13\n"
          ],
          "name": "stdout"
        }
      ]
    },
    {
      "cell_type": "code",
      "metadata": {
        "id": "U6KJ43ztXD3a",
        "colab_type": "code",
        "colab": {
          "base_uri": "https://localhost:8080/",
          "height": 1000
        },
        "outputId": "0185bea2-474f-427a-c66b-4a724a2219a6"
      },
      "source": [
        "#prevendo o preço da casa\n",
        "regr.predict(x)"
      ],
      "execution_count": 37,
      "outputs": [
        {
          "output_type": "execute_result",
          "data": {
            "text/plain": [
              "array([30.00384338, 25.02556238, 30.56759672, 28.60703649, 27.94352423,\n",
              "       25.25628446, 23.00180827, 19.53598843, 11.52363685, 18.92026211,\n",
              "       18.99949651, 21.58679568, 20.90652153, 19.55290281, 19.28348205,\n",
              "       19.29748321, 20.52750979, 16.91140135, 16.17801106, 18.40613603,\n",
              "       12.52385753, 17.67103669, 15.83288129, 13.80628535, 15.67833832,\n",
              "       13.38668561, 15.46397655, 14.70847428, 19.54737285, 20.8764282 ,\n",
              "       11.45511759, 18.05923295,  8.81105736, 14.28275814, 13.70675891,\n",
              "       23.81463526, 22.34193708, 23.10891142, 22.91502612, 31.35762569,\n",
              "       34.21510225, 28.02056414, 25.20386628, 24.60979273, 22.94149176,\n",
              "       22.09669817, 20.42320032, 18.03655088,  9.10655377, 17.20607751,\n",
              "       21.28152535, 23.97222285, 27.6558508 , 24.04901809, 15.3618477 ,\n",
              "       31.15264947, 24.85686978, 33.10919806, 21.77537987, 21.08493555,\n",
              "       17.8725804 , 18.51110208, 23.98742856, 22.55408869, 23.37308644,\n",
              "       30.36148358, 25.53056512, 21.11338564, 17.42153786, 20.78483633,\n",
              "       25.20148859, 21.7426577 , 24.55744957, 24.04295712, 25.50499716,\n",
              "       23.9669302 , 22.94545403, 23.35699818, 21.26198266, 22.42817373,\n",
              "       28.40576968, 26.99486086, 26.03576297, 25.05873482, 24.78456674,\n",
              "       27.79049195, 22.16853423, 25.89276415, 30.67461827, 30.83110623,\n",
              "       27.1190194 , 27.41266734, 28.94122762, 29.08105546, 27.03977365,\n",
              "       28.62459949, 24.72744978, 35.78159518, 35.11454587, 32.25102801,\n",
              "       24.58022019, 25.59413475, 19.79013684, 20.31167129, 21.43482591,\n",
              "       18.53994008, 17.18755992, 20.75049026, 22.64829115, 19.7720367 ,\n",
              "       20.64965864, 26.52586744, 20.77323638, 20.71548315, 25.17208881,\n",
              "       20.43025591, 23.37724626, 23.69043261, 20.33578364, 20.79180873,\n",
              "       21.91632071, 22.47107777, 20.55738556, 16.36661977, 20.56099819,\n",
              "       22.48178446, 14.61706633, 15.17876684, 18.93868592, 14.05573285,\n",
              "       20.03527399, 19.41013402, 20.06191566, 15.75807673, 13.25645238,\n",
              "       17.26277735, 15.87841883, 19.36163954, 13.81483897, 16.44881475,\n",
              "       13.57141932,  3.98885508, 14.59495478, 12.1488148 ,  8.72822362,\n",
              "       12.03585343, 15.82082058,  8.5149902 ,  9.71844139, 14.80451374,\n",
              "       20.83858153, 18.30101169, 20.12282558, 17.28601894, 22.36600228,\n",
              "       20.10375923, 13.62125891, 33.25982697, 29.03017268, 25.56752769,\n",
              "       32.70827666, 36.77467015, 40.55765844, 41.84728168, 24.78867379,\n",
              "       25.37889238, 37.20347455, 23.08748747, 26.40273955, 26.65382114,\n",
              "       22.5551466 , 24.29082812, 22.97657219, 29.07194308, 26.5219434 ,\n",
              "       30.72209056, 25.61669307, 29.13740979, 31.43571968, 32.92231568,\n",
              "       34.72440464, 27.76552111, 33.88787321, 30.99238036, 22.71820008,\n",
              "       24.7664781 , 35.88497226, 33.42476722, 32.41199147, 34.51509949,\n",
              "       30.76109485, 30.28934141, 32.91918714, 32.11260771, 31.55871004,\n",
              "       40.84555721, 36.12770079, 32.6692081 , 34.70469116, 30.09345162,\n",
              "       30.64393906, 29.28719501, 37.07148392, 42.03193124, 43.18949844,\n",
              "       22.69034796, 23.68284712, 17.85447214, 23.49428992, 17.00587718,\n",
              "       22.39251096, 17.06042754, 22.73892921, 25.21942554, 11.11916737,\n",
              "       24.51049148, 26.60334775, 28.35518713, 24.91525464, 29.68652768,\n",
              "       33.18419746, 23.77456656, 32.14051958, 29.7458199 , 38.37102453,\n",
              "       39.81461867, 37.58605755, 32.3995325 , 35.45665242, 31.23411512,\n",
              "       24.48449227, 33.28837292, 38.0481048 , 37.16328631, 31.71383523,\n",
              "       25.26705571, 30.10010745, 32.71987156, 28.42717057, 28.42940678,\n",
              "       27.29375938, 23.74262478, 24.12007891, 27.40208414, 16.3285756 ,\n",
              "       13.39891261, 20.01638775, 19.86184428, 21.2883131 , 24.0798915 ,\n",
              "       24.20633547, 25.04215821, 24.91964007, 29.94563374, 23.97228316,\n",
              "       21.69580887, 37.51109239, 43.30239043, 36.48361421, 34.98988594,\n",
              "       34.81211508, 37.16631331, 40.98928501, 34.44634089, 35.83397547,\n",
              "       28.245743  , 31.22673593, 40.8395575 , 39.31792393, 25.70817905,\n",
              "       22.30295533, 27.20340972, 28.51169472, 35.47676598, 36.10639164,\n",
              "       33.79668274, 35.61085858, 34.83993382, 30.35192656, 35.30980701,\n",
              "       38.79756966, 34.33123186, 40.33963075, 44.67308339, 31.59689086,\n",
              "       27.3565923 , 20.10174154, 27.04206674, 27.2136458 , 26.91395839,\n",
              "       33.43563311, 34.40349633, 31.8333982 , 25.81783237, 24.42982348,\n",
              "       28.45764337, 27.36266999, 19.53928758, 29.11309844, 31.91054611,\n",
              "       30.77159449, 28.94275871, 28.88191022, 32.79887232, 33.20905456,\n",
              "       30.76831792, 35.56226857, 32.70905124, 28.64244237, 23.58965827,\n",
              "       18.54266897, 26.87889843, 23.28133979, 25.54580246, 25.48120057,\n",
              "       20.53909901, 17.61572573, 18.37581686, 24.29070277, 21.32529039,\n",
              "       24.88682244, 24.86937282, 22.86952447, 19.45123791, 25.11783401,\n",
              "       24.66786913, 23.68076177, 19.34089616, 21.17418105, 24.25249073,\n",
              "       21.59260894, 19.98446605, 23.33888   , 22.14060692, 21.55509929,\n",
              "       20.61872907, 20.16097176, 19.28490387, 22.1667232 , 21.24965774,\n",
              "       21.42939305, 30.32788796, 22.04734975, 27.70647912, 28.54794117,\n",
              "       16.54501121, 14.78359641, 25.27380082, 27.54205117, 22.14837562,\n",
              "       20.45944095, 20.54605423, 16.88063827, 25.40253506, 14.32486632,\n",
              "       16.59488462, 19.63704691, 22.71806607, 22.20218887, 19.20548057,\n",
              "       22.66616105, 18.93192618, 18.22846804, 20.23150811, 37.4944739 ,\n",
              "       14.28190734, 15.54286248, 10.83162324, 23.80072902, 32.6440736 ,\n",
              "       34.60684042, 24.94331333, 25.9998091 ,  6.126325  ,  0.77779806,\n",
              "       25.30713064, 17.74061065, 20.23274414, 15.83331301, 16.83512587,\n",
              "       14.36994825, 18.47682833, 13.4276828 , 13.06177512,  3.27918116,\n",
              "        8.06022171,  6.12842196,  5.6186481 ,  6.4519857 , 14.20764735,\n",
              "       17.21225183, 17.29887265,  9.89116643, 20.22124193, 17.94181175,\n",
              "       20.30445783, 19.29559075, 16.33632779,  6.55162319, 10.89016778,\n",
              "       11.88145871, 17.81174507, 18.26126587, 12.97948781,  7.37816361,\n",
              "        8.21115861,  8.06626193, 19.98294786, 13.70756369, 19.85268454,\n",
              "       15.22308298, 16.96071981,  1.71851807, 11.80578387, -4.28131071,\n",
              "        9.58376737, 13.36660811,  6.89562363,  6.14779852, 14.60661794,\n",
              "       19.6000267 , 18.12427476, 18.52177132, 13.1752861 , 14.62617624,\n",
              "        9.92374976, 16.34590647, 14.07519426, 14.25756243, 13.04234787,\n",
              "       18.15955693, 18.69554354, 21.527283  , 17.03141861, 15.96090435,\n",
              "       13.36141611, 14.52079384,  8.81976005,  4.86751102, 13.06591313,\n",
              "       12.70609699, 17.29558059, 18.740485  , 18.05901029, 11.51474683,\n",
              "       11.97400359, 17.68344618, 18.12695239, 17.5183465 , 17.22742507,\n",
              "       16.52271631, 19.41291095, 18.58215236, 22.48944791, 15.28000133,\n",
              "       15.82089335, 12.68725581, 12.8763379 , 17.18668531, 18.51247609,\n",
              "       19.04860533, 20.17208927, 19.7740732 , 22.42940768, 20.31911854,\n",
              "       17.88616253, 14.37478523, 16.94776851, 16.98405762, 18.58838397,\n",
              "       20.16719441, 22.97718032, 22.45580726, 25.57824627, 16.39147632,\n",
              "       16.1114628 , 20.534816  , 11.54272738, 19.20496304, 21.86276391,\n",
              "       23.46878866, 27.09887315, 28.56994302, 21.08398783, 19.45516196,\n",
              "       22.22225914, 19.65591961, 21.32536104, 11.85583717,  8.22386687,\n",
              "        3.66399672, 13.75908538, 15.93118545, 20.62662054, 20.61249414,\n",
              "       16.88541964, 14.01320787, 19.10854144, 21.29805174, 18.45498841,\n",
              "       20.46870847, 23.53334055, 22.37571892, 27.6274261 , 26.12796681,\n",
              "       22.34421229])"
            ]
          },
          "metadata": {
            "tags": []
          },
          "execution_count": 37
        }
      ]
    },
    {
      "cell_type": "code",
      "metadata": {
        "id": "DOqQGQGVXL0N",
        "colab_type": "code",
        "colab": {
          "base_uri": "https://localhost:8080/",
          "height": 295
        },
        "outputId": "643e487e-ff1d-4c7a-8dd2-3d0379ca20d5"
      },
      "source": [
        "# comparando preços originais x preços previstos\n",
        "plt.scatter(df.PRICE, regr.predict(x))\n",
        "plt.xlabel(\"Preço Original\")\n",
        "plt.ylabel(\"Prelo Previsto\")\n",
        "plt.title(\"Preço Original x Preço Previsto\")\n",
        "plt.show()"
      ],
      "execution_count": 38,
      "outputs": [
        {
          "output_type": "display_data",
          "data": {
            "image/png": "[encoded data removed]",
            "text/plain": [
              "<Figure size 432x288 with 1 Axes>"
            ]
          },
          "metadata": {
            "tags": [],
            "needs_background": "light"
          }
        }
      ]
    },
    {
      "cell_type": "code",
      "metadata": {
        "id": "gu2avyl4YJIF",
        "colab_type": "code",
        "colab": {
          "base_uri": "https://localhost:8080/",
          "height": 34
        },
        "outputId": "23d7e21f-f97c-4e5b-b305-03254d62edfe"
      },
      "source": [
        "#calculando o MSE( Mean Squared Error)\n",
        "msel = np.mean((df.PRICE - regr.predict(x)) ** 2)\n",
        "print(msel)"
      ],
      "execution_count": 39,
      "outputs": [
        {
          "output_type": "stream",
          "text": [
            "21.89483118172921\n"
          ],
          "name": "stdout"
        }
      ]
    },
    {
      "cell_type": "code",
      "metadata": {
        "id": "nboUgtLfYjzU",
        "colab_type": "code",
        "colab": {
          "base_uri": "https://localhost:8080/",
          "height": 34
        },
        "outputId": "768ef059-6d3d-4a1f-d443-14ad8c1ae412"
      },
      "source": [
        "# aplicando regressão linear para apenas uma variável e calculando o MSE\n",
        "regr = LinearRegression()\n",
        "regr.fit(x[['PTRATIO']], df.PRICE)\n",
        "mse2 = np.mean((df.PRICE - regr.predict (x[['PTRATIO']])) ** 2)\n",
        "print(mse2)"
      ],
      "execution_count": 40,
      "outputs": [
        {
          "output_type": "stream",
          "text": [
            "62.65220001376923\n"
          ],
          "name": "stdout"
        }
      ]
    },
    {
      "cell_type": "code",
      "metadata": {
        "id": "E6BMhc-yZ1eq",
        "colab_type": "code",
        "colab": {
          "base_uri": "https://localhost:8080/",
          "height": 34
        },
        "outputId": "6433ed2a-7f8f-4d5d-8958-393788a47d65"
      },
      "source": [
        "# dividindo os dados em treino e de teste (opção 1)\n",
        "x_treino = x[:-50]\n",
        "x_teste = x[-50:]\n",
        "\n",
        "y_treino = df.PRICE[:-50]\n",
        "y_teste = df.PRICE[-50:]\n",
        "\n",
        "print(x_treino.shape, x_teste.shape, y_treino.shape, y_teste.shape)\n"
      ],
      "execution_count": 42,
      "outputs": [
        {
          "output_type": "stream",
          "text": [
            "(456, 13) (50, 13) (456,) (50,)\n"
          ],
          "name": "stdout"
        }
      ]
    },
    {
      "cell_type": "code",
      "metadata": {
        "id": "FgpU0-tca4Pc",
        "colab_type": "code",
        "colab": {}
      },
      "source": [
        "# dividindo os dados em treino e de teste (opção 2)\n",
        "from sklearn.model_selection import train_test_split"
      ],
      "execution_count": 43,
      "outputs": []
    },
    {
      "cell_type": "code",
      "metadata": {
        "id": "i53sAlnFa_7l",
        "colab_type": "code",
        "colab": {}
      },
      "source": [
        "#dividindo x e y em dados de treino e teste\n",
        "x_treino, x_teste, y_treino, y_teste = train_test_split(x, df.PRICE, test_size = 0.30, random_state = 5)"
      ],
      "execution_count": 44,
      "outputs": []
    },
    {
      "cell_type": "code",
      "metadata": {
        "id": "nUWc5O9Yb921",
        "colab_type": "code",
        "colab": {
          "base_uri": "https://localhost:8080/",
          "height": 34
        },
        "outputId": "ad190dc2-e5ac-4730-e7e4-8375189d1d24"
      },
      "source": [
        "#imprimindo o shape dos datasets\n",
        "print(x_treino.shape, x_teste.shape, y_treino.shape, y_teste.shape )"
      ],
      "execution_count": 47,
      "outputs": [
        {
          "output_type": "stream",
          "text": [
            "(354, 13) (152, 13) (354,) (152,)\n"
          ],
          "name": "stdout"
        }
      ]
    },
    {
      "cell_type": "code",
      "metadata": {
        "id": "z1tUpPhubfur",
        "colab_type": "code",
        "colab": {}
      },
      "source": [
        "# construindo o modelo de regressão\n",
        "regr = LinearRegression()"
      ],
      "execution_count": 48,
      "outputs": []
    },
    {
      "cell_type": "code",
      "metadata": {
        "id": "sg4VPKcDbnYc",
        "colab_type": "code",
        "colab": {
          "base_uri": "https://localhost:8080/",
          "height": 34
        },
        "outputId": "d0ef6662-43c4-44d2-f44a-2570fdc9fdf7"
      },
      "source": [
        "# treinando o modelo\n",
        "regr. fit(x_treino, y_treino)"
      ],
      "execution_count": 49,
      "outputs": [
        {
          "output_type": "execute_result",
          "data": {
            "text/plain": [
              "LinearRegression(copy_X=True, fit_intercept=True, n_jobs=None, normalize=False)"
            ]
          },
          "metadata": {
            "tags": []
          },
          "execution_count": 49
        }
      ]
    },
    {
      "cell_type": "code",
      "metadata": {
        "id": "19RgwIQLcSfV",
        "colab_type": "code",
        "colab": {}
      },
      "source": [
        "#definindo os dados de treino e teste\n",
        "pred_treino = regr.predict(x_treino)\n",
        "pred_teste = regr.predict(x_teste)"
      ],
      "execution_count": 50,
      "outputs": []
    },
    {
      "cell_type": "code",
      "metadata": {
        "id": "baTXxrgIclJv",
        "colab_type": "code",
        "colab": {
          "base_uri": "https://localhost:8080/",
          "height": 281
        },
        "outputId": "27ec3637-75bc-4abb-b0a2-85c13251d8d7"
      },
      "source": [
        "# comparando os preços originais x preços previstos\n",
        "plt.scatter(regr.predict(x_treino),regr.predict(x_treino) - y_treino, c= 'b', s=40, alpha = 0.5)\n",
        "plt.scatter(regr.predict(x_teste),regr.predict(x_teste) - y_teste, c='g', s=40, alpha = 0.5)\n",
        "plt.hlines(y =0, xmin = 0, xmax = 50)\n",
        "plt.ylabel(\"Residuo\")\n",
        "plt.title(\"Residual Plot - Treino(Azul), Teste(Verde)\")\n",
        "plt.show()"
      ],
      "execution_count": 53,
      "outputs": [
        {
          "output_type": "display_data",
          "data": {
            "image/png": "[encoded data removed]",
            "text/plain": [
              "<Figure size 432x288 with 1 Axes>"
            ]
          },
          "metadata": {
            "tags": [],
            "needs_background": "light"
          }
        }
      ]
    }
  ]
}