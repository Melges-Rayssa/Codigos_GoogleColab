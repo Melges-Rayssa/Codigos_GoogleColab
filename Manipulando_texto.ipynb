{
  "nbformat": 4,
  "nbformat_minor": 0,
  "metadata": {
    "colab": {
      "name": "Manipulando_texto.ipynb",
      "provenance": [],
      "authorship_tag": "ABX9TyPlrhZlG9EfoPpH/inkDufT",
      "include_colab_link": true
    },
    "kernelspec": {
      "name": "python3",
      "display_name": "Python 3"
    }
  },
  "cells": [
    {
      "cell_type": "markdown",
      "metadata": {
        "id": "view-in-github",
        "colab_type": "text"
      },
      "source": [
        "<a href=\"https://colab.research.google.com/github/Melges-Rayssa/Codigos_GoogleColab/blob/master/Manipulando_texto.ipynb\" target=\"_parent\"><img src=\"https://colab.research.google.com/assets/colab-badge.svg\" alt=\"Open In Colab\"/></a>"
      ]
    },
    {
      "cell_type": "code",
      "metadata": {
        "id": "Et_Is1pEZIGA",
        "colab_type": "code",
        "colab": {}
      },
      "source": [
        "#utilizando expressões regulares\n",
        "\n",
        "import re"
      ],
      "execution_count": 1,
      "outputs": []
    },
    {
      "cell_type": "code",
      "metadata": {
        "id": "au77x9XHZgZT",
        "colab_type": "code",
        "colab": {}
      },
      "source": [
        "#espesificando oque quero buscar\n",
        "lista_pesquisa = ['informações', 'técnicas']"
      ],
      "execution_count": 6,
      "outputs": []
    },
    {
      "cell_type": "code",
      "metadata": {
        "id": "lvLh-yDjZ-bv",
        "colab_type": "code",
        "colab": {}
      },
      "source": [
        "#texto para analise\n",
        "texto = 'Big Data pode ser definido, de maneira mais simplista, como um conjunto de técnicas  capazes de se analisar grandes quantidades de dados para a geração de resultados importantes que, em volumes menores, dificilmente seria possível.'"
      ],
      "execution_count": 7,
      "outputs": []
    },
    {
      "cell_type": "code",
      "metadata": {
        "id": "8rrK0Mkcay5M",
        "colab_type": "code",
        "colab": {
          "base_uri": "https://localhost:8080/",
          "height": 343
        },
        "outputId": "866379ce-5f45-48bd-e95a-d03173e36e5f"
      },
      "source": [
        "for item in lista_pesquisa:\n",
        "  print('Buscando por \"%s\" em: \\n\\n\"%s\"' % (item, texto))\n",
        "\n",
        "  if re.search(item, texto):\n",
        "    print ('\\n')\n",
        "    print ('Palavra encontrada. \\n')\n",
        "    print ('\\n')\n",
        "\n",
        "  else:\n",
        "    print ('\\n')\n",
        "    print ('Palavra não encontrada. \\n')\n",
        "    print ('\\n')\n"
      ],
      "execution_count": 8,
      "outputs": [
        {
          "output_type": "stream",
          "text": [
            "Buscando por \"informações\" em: \n",
            "\n",
            "\"Big Data pode ser definido, de maneira mais simplista, como um conjunto de técnicas  capazes de se analisar grandes quantidades de dados para a geração de resultados importantes que, em volumes menores, dificilmente seria possível.\"\n",
            "\n",
            "\n",
            "Palavra não encontrada. \n",
            "\n",
            "\n",
            "\n",
            "Buscando por \"técnicas\" em: \n",
            "\n",
            "\"Big Data pode ser definido, de maneira mais simplista, como um conjunto de técnicas  capazes de se analisar grandes quantidades de dados para a geração de resultados importantes que, em volumes menores, dificilmente seria possível.\"\n",
            "\n",
            "\n",
            "Palavra encontrada. \n",
            "\n",
            "\n",
            "\n"
          ],
          "name": "stdout"
        }
      ]
    }
  ]
}