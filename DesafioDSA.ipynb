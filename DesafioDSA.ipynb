{
  "nbformat": 4,
  "nbformat_minor": 0,
  "metadata": {
    "colab": {
      "name": "DesafioDSA.ipynb",
      "provenance": [],
      "authorship_tag": "ABX9TyM2SmZD1w6wXbf+kqXsWjik",
      "include_colab_link": true
    },
    "kernelspec": {
      "name": "python3",
      "display_name": "Python 3"
    }
  },
  "cells": [
    {
      "cell_type": "markdown",
      "metadata": {
        "id": "view-in-github",
        "colab_type": "text"
      },
      "source": [
        "<a href=\"https://colab.research.google.com/github/Melges-Rayssa/Codigos_GoogleColab/blob/master/DesafioDSA.ipynb\" target=\"_parent\"><img src=\"https://colab.research.google.com/assets/colab-badge.svg\" alt=\"Open In Colab\"/></a>"
      ]
    },
    {
      "cell_type": "code",
      "metadata": {
        "id": "ECX2M1P7j5D8",
        "colab_type": "code",
        "colab": {}
      },
      "source": [
        "#desafio 1 DSA, caracteres exclusivos."
      ],
      "execution_count": null,
      "outputs": []
    },
    {
      "cell_type": "code",
      "metadata": {
        "id": "dQ1ERBaxlJd4",
        "colab_type": "code",
        "colab": {}
      },
      "source": [
        "class CaracterExclusivo(object):\n",
        "  def has_unique_chars(self, string):\n",
        "    if string is None:\n",
        "      return False\n",
        "    for char in string:\n",
        "      if string.count(char) >1:\n",
        "        return False\n",
        "    return True"
      ],
      "execution_count": 3,
      "outputs": []
    },
    {
      "cell_type": "code",
      "metadata": {
        "id": "3imdaGCBpSZ2",
        "colab_type": "code",
        "colab": {}
      },
      "source": [
        "# desafio 2, gerar numeros primos"
      ],
      "execution_count": null,
      "outputs": []
    },
    {
      "cell_type": "code",
      "metadata": {
        "id": "iGfsxOl-pi3H",
        "colab_type": "code",
        "colab": {}
      },
      "source": [
        "import math\n",
        "\n",
        "class PrimeGenerator(object):\n",
        "\n",
        "    def generate_primes(self, max_num):\n",
        "      if max_num is None:\n",
        "        raise TypeError('max_num não pode ser None')\n",
        "      array = [True] * max_num\n",
        "      array[0] = False\n",
        "      array[1] = False\n",
        "      prime = 2\n",
        "      while prime <= math.sqrt(max_num):\n",
        "        self._cross_off(array, prime)\n",
        "        prime = self._next_prime(array, prime)\n",
        "      return array"
      ],
      "execution_count": 6,
      "outputs": []
    },
    {
      "cell_type": "code",
      "metadata": {
        "id": "bAgDvkzcrfAd",
        "colab_type": "code",
        "colab": {}
      },
      "source": [
        "# desafio 3 mover um robô do conto superior esquerdo para o inferior direito"
      ],
      "execution_count": null,
      "outputs": []
    },
    {
      "cell_type": "code",
      "metadata": {
        "id": "Um4mQU-ErvtN",
        "colab_type": "code",
        "colab": {}
      },
      "source": [
        "class Grid(object):\n",
        "\n",
        "    def find_path(self, matrix):\n",
        "        if matrix is None or not matrix:\n",
        "            return None\n",
        "        cache = {}\n",
        "        path = []\n",
        "        if self._find_path(matrix, len(matrix) - 1, \n",
        "                           len(matrix[0]) - 1, cache, path):\n",
        "            return path\n",
        "        else:\n",
        "            return None\n",
        "\n",
        "    def _find_path(self, matrix, row, col, cache, path):\n",
        "        if row < 0 or col < 0 or not matrix[row][col]:\n",
        "            return False\n",
        "        cell = (row, col)\n",
        "        if cell in cache:\n",
        "            return cache[cell]\n",
        "        cache[cell] = (row == 0 and col == 0 or\n",
        "                       self._find_path(matrix, row, col - 1, cache, path) or\n",
        "                       self._find_path(matrix, row - 1, col, cache, path))\n",
        "        if cache[cell]:\n",
        "            path.append(cell)\n",
        "        return cache[cell]"
      ],
      "execution_count": null,
      "outputs": []
    },
    {
      "cell_type": "code",
      "metadata": {
        "id": "rljoZwqxsKkj",
        "colab_type": "code",
        "colab": {}
      },
      "source": [
        "# desafio 4 implementar o \"Selection sort\""
      ],
      "execution_count": null,
      "outputs": []
    },
    {
      "cell_type": "code",
      "metadata": {
        "id": "g4wj-XcAsU4R",
        "colab_type": "code",
        "colab": {}
      },
      "source": [
        "class SelectionSort(object):\n",
        "\n",
        "    def sort(self, data):\n",
        "        if data is None:\n",
        "            raise TypeError('Dados não podem ser None')\n",
        "        if len(data) < 2:\n",
        "            return data\n",
        "        for i in range(len(data) - 1):\n",
        "            min_index = i\n",
        "            for j in range(i + 1, len(data)):\n",
        "                if data[j] < data[min_index]:\n",
        "                    min_index = j\n",
        "            if data[min_index] < data[i]:\n",
        "                data[i], data[min_index] = data[min_index], data[i]\n",
        "        return data\n",
        "\n",
        "    def sort_iterative_alt(self, data):\n",
        "        if data is None:\n",
        "            raise TypeError('Dados não podem ser None')\n",
        "        if len(data) < 2:\n",
        "            return data\n",
        "        for i in range(len(data) - 1):\n",
        "            self._swap(data, i, self._find_min_index(data, i))\n",
        "        return data\n",
        "\n",
        "    def sort_recursive(self, data):\n",
        "        if data is None:\n",
        "            raise TypeError('Dados não podem ser None')\n",
        "        if len(data) < 2:\n",
        "            return data\n",
        "        return self._sort_recursive(data, start=0)\n",
        "\n",
        "    def _sort_recursive(self, data, start):\n",
        "        if data is None:\n",
        "            return\n",
        "        if start < len(data) - 1:\n",
        "            swap(data, start, self._find_min_index(data, start))\n",
        "            self._sort_recursive(data, start + 1)\n",
        "        return data\n",
        "\n",
        "    def _find_min_index(self, data, start):\n",
        "        min_index = start\n",
        "        for i in range(start + 1, len(data)):\n",
        "            if data[i] < data[min_index]:\n",
        "                min_index = i\n",
        "        return min_index\n",
        "\n",
        "    def _swap(self, data, i, j):\n",
        "        if i != j:\n",
        "            data[i], data[j] = data[j], data[i]\n",
        "        return data"
      ],
      "execution_count": null,
      "outputs": []
    },
    {
      "cell_type": "code",
      "metadata": {
        "id": "RPSFAsd2sgkY",
        "colab_type": "code",
        "colab": {}
      },
      "source": [
        "# desafio 5, analisar o comportamento de compra do consumidor"
      ],
      "execution_count": null,
      "outputs": []
    }
  ]
}